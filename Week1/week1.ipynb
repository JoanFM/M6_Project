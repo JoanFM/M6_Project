{
 "cells": [
  {
   "cell_type": "markdown",
   "metadata": {},
   "source": [
    "# Week 1"
   ]
  },
  {
   "cell_type": "markdown",
   "metadata": {},
   "source": [
    "Generate the frames"
   ]
  },
  {
   "cell_type": "code",
   "execution_count": null,
   "metadata": {},
   "outputs": [],
   "source": [
    "%ffmpeg -i AICity_data/train/S03/c010/vdo.avi frames/output%03d.jpg"
   ]
  },
  {
   "cell_type": "markdown",
   "metadata": {},
   "source": [
    "Load the annotation xml and get the tracks"
   ]
  },
  {
   "cell_type": "code",
   "execution_count": null,
   "metadata": {},
   "outputs": [],
   "source": [
    "from xml.dom import minidom\n",
    "\n",
    "xml_parsed = minidom.parse('ai_challenge_s03_c010-full_annotation.xml')\n",
    "annotations = xml_parsed.getElementsByTagName('annotations')\n",
    "tracks = annotations[0].getElementsByTagName('track')"
   ]
  },
  {
   "cell_type": "markdown",
   "metadata": {},
   "source": [
    "Get the bounding boxed grouped by frame number"
   ]
  },
  {
   "cell_type": "code",
   "execution_count": null,
   "metadata": {},
   "outputs": [],
   "source": [
    "from collections import defaultdict\n",
    "import collections\n",
    "\n",
    "BoundingBox = collections.namedtuple('BoundingBox', 'xtl ytl xbr ybr')\n",
    "boxes_by_frame = defaultdict(list)\n",
    "\n",
    "for track in tracks:\n",
    "    if track.getAttribute('label') == 'car':\n",
    "        boxes = track.getElementsByTagName('box')\n",
    "        for box in boxes:\n",
    "            frame_num = int(box.getAttribute('frame'))\n",
    "            xtl = float(box.getAttribute('xtl'))\n",
    "            ytl = float(box.getAttribute('ytl'))\n",
    "            xbr = float(box.getAttribute('xbr'))\n",
    "            ybr = float(box.getAttribute('ybr'))\n",
    "            boxes_by_frame[frame_num].append(BoundingBox(xtl=xtl, ytl=ytl, xbr=xbr, ybr=ybr))     "
   ]
  },
  {
   "cell_type": "markdown",
   "metadata": {},
   "source": [
    "Let's try to print some bboxes on the images"
   ]
  },
  {
   "cell_type": "code",
   "execution_count": null,
   "metadata": {},
   "outputs": [],
   "source": [
    "from PIL import Image, ImageDraw\n",
    "from IPython.display import display \n",
    "\n",
    "for key, boxes in boxes_by_frame.items():\n",
    "    image = 'frames/output%03d.jpg' % (int(key),)\n",
    "    with Image.open(image) as im:\n",
    "        for box in boxes:\n",
    "            draw = ImageDraw.Draw(im)\n",
    "            draw.rectangle([(box.xtl, box.ytl), (box.xbr, box.ybr)], outline='green')\n",
    "        display(im)"
   ]
  },
  {
   "cell_type": "code",
   "execution_count": null,
   "metadata": {},
   "outputs": [],
   "source": [
    "def get_iou(bb1: BoundingBox, bb2: BoundingBox):\n",
    "    \"\"\"\n",
    "    Calculate the Intersection over Union (IoU) of two bounding boxes.\n",
    "\n",
    "    Parameters\n",
    "    ----------\n",
    "    bb1 : dict\n",
    "        Keys: {'x1', 'x2', 'y1', 'y2'}\n",
    "        The (x1, y1) position is at the top left corner,\n",
    "        the (x2, y2) position is at the bottom right corner\n",
    "    bb2 : dict\n",
    "        Keys: {'x1', 'x2', 'y1', 'y2'}\n",
    "        The (x, y) position is at the top left corner,\n",
    "        the (x2, y2) position is at the bottom right corner\n",
    "\n",
    "    Returns\n",
    "    -------\n",
    "    float\n",
    "        in [0, 1]\n",
    "    \"\"\"\n",
    "    \n",
    "    assert bb1.xtl < bb1.xbr\n",
    "    assert bb1.ytl < bb1.ybr\n",
    "    assert bb2.xtl < bb2.xbr\n",
    "    assert bb2.ytl < bb2.ybr\n",
    "    \n",
    "    # determine the coordinates of the intersection rectangle\n",
    "    x_left = max(bb1.xtl, bb2.xtl)\n",
    "    y_top = max(bb1.ytl, bb2.ytl)\n",
    "    x_right = min(bb1.xbr, bb2.xbr)\n",
    "    y_bottom = min(bb1.ybr, bb2.ybr)\n",
    "\n",
    "    if x_right < x_left or y_bottom < y_top:\n",
    "        return 0.0\n",
    "\n",
    "    # The intersection of two axis-aligned bounding boxes is always an\n",
    "    # axis-aligned bounding box\n",
    "    intersection_area = (x_right - x_left) * (y_bottom - y_top)\n",
    "\n",
    "    # compute the area of both AABBs\n",
    "    bb1_area = (bb1.xbr - bb1.xtl) * (bb1.ybr - bb1.ytl)\n",
    "    bb2_area = (bb2.xbr - bb2.xtl) * (bb2.ybr - bb2.ytl)\n",
    "\n",
    "    # compute the intersection over union by taking the intersection\n",
    "    # area and dividing it by the sum of prediction + ground-truth\n",
    "    # areas - the interesection area\n",
    "    iou = intersection_area / float(bb1_area + bb2_area - intersection_area)\n",
    "    assert iou >= 0.0\n",
    "    assert iou <= 1.0\n",
    "    return iou"
   ]
  },
  {
   "cell_type": "code",
   "execution_count": null,
   "metadata": {},
   "outputs": [],
   "source": [
    "bbox = boxes_by_frame[1][0]\n",
    "\n",
    "get_iou(bbox, bbox)"
   ]
  },
  {
   "cell_type": "code",
   "execution_count": null,
   "metadata": {},
   "outputs": [],
   "source": [
    "def compute_average_precision(mIOU: float, groundtruths_bbox: List[BoundingBox], resulting_bbox = List[BoundingBox])\n",
    "    results = []\n",
    "    for gt_bbox, result_bbox in zip(groundtruths_bbox, resulting_bbox):\n",
    "        if get_iou(gt_bbox, result_bbox) >= mIOU:\n",
    "            results.append(True)\n",
    "        else:\n",
    "            results.append(False)\n",
    "            \n",
    "    def precision(i):\n",
    "        count = len(list(filter(lambda x: x is True, results[:i])))\n",
    "        return count / i\n",
    "        \n",
    "    def recall(i):\n",
    "        count = len(list(filter(lambda x: x is True, results[:i])))\n",
    "        return count / len(gt_bbox)\n",
    "    \n",
    "    ap = 0\n",
    "    for i in range(1, len(results)):\n",
    "        ap += (recall(i) - recall(i - 1))* precision(i)\n",
    "    \n",
    "    return ap    "
   ]
  }
 ],
 "metadata": {
  "kernelspec": {
   "display_name": "Python 3",
   "language": "python",
   "name": "python3"
  },
  "language_info": {
   "codemirror_mode": {
    "name": "ipython",
    "version": 3
   },
   "file_extension": ".py",
   "mimetype": "text/x-python",
   "name": "python",
   "nbconvert_exporter": "python",
   "pygments_lexer": "ipython3",
   "version": "3.7.5"
  }
 },
 "nbformat": 4,
 "nbformat_minor": 4
}
