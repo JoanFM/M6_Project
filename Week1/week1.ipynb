{
 "cells": [
  {
   "cell_type": "markdown",
   "metadata": {},
   "source": [
    "# Week 1"
   ]
  },
  {
   "cell_type": "markdown",
   "metadata": {},
   "source": [
    "Generate the frames"
   ]
  },
  {
   "cell_type": "code",
   "execution_count": null,
   "metadata": {},
   "outputs": [],
   "source": [
    "%ffmpeg -i AICity_data/train/S03/c010/vdo.avi frames/output%03d.jpg"
   ]
  },
  {
   "cell_type": "markdown",
   "metadata": {},
   "source": [
    "Load the annotation xml and get the tracks"
   ]
  },
  {
   "cell_type": "code",
   "execution_count": null,
   "metadata": {},
   "outputs": [],
   "source": [
    "from xml.dom import minidom\n",
    "\n",
    "xml_parsed = minidom.parse('ai_challenge_s03_c010-full_annotation.xml')\n",
    "annotations = xml_parsed.getElementsByTagName('annotations')\n",
    "tracks = annotations[0].getElementsByTagName('track')"
   ]
  },
  {
   "cell_type": "markdown",
   "metadata": {},
   "source": [
    "Get the bounding boxed grouped by frame number"
   ]
  },
  {
   "cell_type": "code",
   "execution_count": null,
   "metadata": {},
   "outputs": [],
   "source": [
    "from collections import defaultdict\n",
    "import collections\n",
    "\n",
    "BoundingBox = collections.namedtuple('BoundingBox', 'xtl ytl xbr ybr')\n",
    "boxes_by_frame = defaultdict(list)\n",
    "\n",
    "for track in tracks:\n",
    "    if track.getAttribute('label') == 'car':\n",
    "        boxes = track.getElementsByTagName('box')\n",
    "        for box in boxes:\n",
    "            frame_num = int(box.getAttribute('frame'))\n",
    "            xtl = float(box.getAttribute('xtl'))\n",
    "            ytl = float(box.getAttribute('ytl'))\n",
    "            xbr = float(box.getAttribute('xbr'))\n",
    "            ybr = float(box.getAttribute('ybr'))\n",
    "            boxes_by_frame[frame_num].append(BoundingBox(xtl=xtl, ytl=ytl, xbr=xbr, ybr=ybr))     "
   ]
  },
  {
   "cell_type": "markdown",
   "metadata": {},
   "source": [
    "Let's try to print some bboxes on the images"
   ]
  },
  {
   "cell_type": "code",
   "execution_count": null,
   "metadata": {},
   "outputs": [],
   "source": [
    "from PIL import Image, ImageDraw\n",
    "from IPython.display import display \n",
    "\n",
    "for key, boxes in boxes_by_frame.items():\n",
    "    image = 'frames/output%03d.jpg' % (int(key),)\n",
    "    with Image.open(image) as im:\n",
    "        for box in boxes:\n",
    "            draw = ImageDraw.Draw(im)\n",
    "            draw.rectangle([(box.xtl, box.ytl), (box.xbr, box.ybr)], outline='green')\n",
    "        display(im)"
   ]
  },
  {
   "cell_type": "code",
   "execution_count": null,
   "metadata": {},
   "outputs": [],
   "source": []
  }
 ],
 "metadata": {
  "kernelspec": {
   "display_name": "Python 3",
   "language": "python",
   "name": "python3"
  },
  "language_info": {
   "codemirror_mode": {
    "name": "ipython",
    "version": 3
   },
   "file_extension": ".py",
   "mimetype": "text/x-python",
   "name": "python",
   "nbconvert_exporter": "python",
   "pygments_lexer": "ipython3",
   "version": "3.7.5"
  }
 },
 "nbformat": 4,
 "nbformat_minor": 4
}
