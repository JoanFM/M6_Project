{
 "cells": [
  {
   "cell_type": "markdown",
   "metadata": {},
   "source": [
    "# Week 1"
   ]
  },
  {
   "cell_type": "markdown",
   "metadata": {},
   "source": [
    "On the first week the goal is to study the evaluation metrics needed for the system, in order also to be confortable with the data available. The metrics are:\n",
    "\n",
    "* **Object Detection**:\n",
    " \t* Mean Intersection over Union\n",
    "    * Mean Average Precision\n",
    "\n",
    "* **Optical Flow**:\n",
    "    * Mean Square Error in Non-occluded areas\n",
    "    * Percentage of Erroneous Pixels in Non-occluded areas"
   ]
  },
  {
   "cell_type": "code",
   "execution_count": 1,
   "metadata": {},
   "outputs": [],
   "source": [
    "%load_ext autoreload\n",
    "%autoreload 2"
   ]
  },
  {
   "cell_type": "markdown",
   "metadata": {},
   "source": [
    "We first have used ffmpeg to save all the frames from the video using the following command: `%ffmpeg -i AICity_data/train/S03/c010/vdo.avi frames/output%03d.jpg`"
   ]
  },
  {
   "cell_type": "markdown",
   "metadata": {},
   "source": [
    "## Imports"
   ]
  },
  {
   "cell_type": "code",
   "execution_count": 21,
   "metadata": {},
   "outputs": [],
   "source": [
    "import cv2\n",
    "import numpy as np\n",
    "import matplotlib.pyplot as plt\n",
    "import matplotlib.animation as animation\n",
    "\n",
    "from pathlib import Path\n",
    "\n",
    "from src.utils.readers import AnnotationReader\n",
    "from src.utils.plot import visualize_random_frames\n",
    "from src.utils.entities import BoundingBox\n",
    "from src.utils.noise import apply_noise_to_bounding_boxes\n",
    "from src.metrics.avg_precision import compute_average_precision"
   ]
  },
  {
   "cell_type": "markdown",
   "metadata": {},
   "source": [
    "## Data Location"
   ]
  },
  {
   "cell_type": "code",
   "execution_count": 4,
   "metadata": {},
   "outputs": [],
   "source": [
    "DATA_ROOT = Path('data')\n",
    "FULL_ANNOTATION_PATH = DATA_ROOT / 'ai_challenge_s03_c010-full_annotation.xml'\n",
    "AICITY_DATA_ROOT = DATA_ROOT / Path('AICity_data/train/S03/c010')\n",
    "FRAMES_LOCATION = DATA_ROOT / 'frames'\n",
    "RESULTS_ROOT = Path('results')\n",
    "VIDEO_PATH = AICITY_DATA_ROOT / 'vdo.avi'\n",
    "\n",
    "assert DATA_ROOT.exists()\n",
    "assert FULL_ANNOTATION_PATH.exists()\n",
    "assert AICITY_DATA_ROOT.exists()\n",
    "assert FRAMES_LOCATION.exists()\n",
    "assert RESULTS_ROOT.exists()"
   ]
  },
  {
   "cell_type": "markdown",
   "metadata": {},
   "source": [
    "## Load the full xml annotation file & get the grouped by frame number"
   ]
  },
  {
   "cell_type": "code",
   "execution_count": 5,
   "metadata": {},
   "outputs": [],
   "source": [
    "reader = AnnotationReader(FULL_ANNOTATION_PATH)\n",
    "bounding_boxes = reader.get_bounding_boxes(classes=['car'], group_by='frame')"
   ]
  },
  {
   "cell_type": "code",
   "execution_count": 6,
   "metadata": {},
   "outputs": [
    {
     "data": {
      "text/plain": [
       "2141"
      ]
     },
     "execution_count": 6,
     "metadata": {},
     "output_type": "execute_result"
    }
   ],
   "source": [
    "len(bounding_boxes.keys())"
   ]
  },
  {
   "cell_type": "markdown",
   "metadata": {},
   "source": [
    "Let's try to print some bboxes on the images"
   ]
  },
  {
   "cell_type": "code",
   "execution_count": null,
   "metadata": {},
   "outputs": [],
   "source": [
    "visualize_random_frames(FRAMES_LOCATION, bounding_boxes, frames_to_show=2)"
   ]
  },
  {
   "cell_type": "markdown",
   "metadata": {},
   "source": [
    "## Add noise to the Ground-Truth and Compute the mean average precision"
   ]
  },
  {
   "cell_type": "markdown",
   "metadata": {},
   "source": [
    "Now we would want to ensure that the metrics implemented are correct. To do so we use the function `apply_noise_to_bounding_boxes` to apply different effects that can occur during the prediction:\n",
    "\n",
    "* Droping bounding boxes: where some bounding boxes dissapear\n",
    "* Generating non-existing bounding_boxes: creating new bounding boxes\n",
    "* Adding regular noise to the current bounding_boxes\n",
    "\n",
    "We will do two experiments:\n",
    "* Increase the droping probability\n",
    "* Increase the standard deviation of the noise applied to the bounding boxes"
   ]
  },
  {
   "cell_type": "code",
   "execution_count": 7,
   "metadata": {},
   "outputs": [],
   "source": [
    "gt_bounding_boxes = reader.get_bounding_boxes(classes=['car'], group_by=None)"
   ]
  },
  {
   "cell_type": "code",
   "execution_count": 9,
   "metadata": {},
   "outputs": [],
   "source": [
    "SAVE_PATH = RESULTS_ROOT / 'week1'\n",
    "SAVE_PATH.mkdir(exist_ok=True)"
   ]
  },
  {
   "cell_type": "markdown",
   "metadata": {},
   "source": [
    "Changing the drop probability"
   ]
  },
  {
   "cell_type": "code",
   "execution_count": 22,
   "metadata": {},
   "outputs": [],
   "source": [
    "# -- Different Drop Porbabilities -- #\n",
    "drop_probabilities_range = np.linspace(0,1,11)\n",
    "mAP_values = []\n",
    "for drop_value in drop_probabilities_range:\n",
    "    noise = {'drop_probability': drop_value, 'mean': 0.0, 'std': 0.0}\n",
    "    noisy_bounding_boxes = apply_noise_to_bounding_boxes(bounding_boxes, noise)\n",
    "    mAP = compute_average_precision(0.5, gt_bounding_boxes, noisy_bounding_boxes)\n",
    "    mAP_values.append(mAP)"
   ]
  },
  {
   "cell_type": "code",
   "execution_count": 25,
   "metadata": {},
   "outputs": [
    {
     "data": {
      "image/png": "[encoded data removed]",
      "text/plain": [
       "<Figure size 432x288 with 1 Axes>"
      ]
     },
     "metadata": {
      "needs_background": "light"
     },
     "output_type": "display_data"
    }
   ],
   "source": [
    "filename = 'map_vs_drop_prob.png'\n",
    "\n",
    "# -- Plotting -- #\n",
    "plt.plot(drop_probabilities_range, mAP_values)\n",
    "plt.xticks(drop_probabilities_range)\n",
    "plt.xlabel('drop probability')\n",
    "plt.ylabel('mAP')\n",
    "plt.savefig(SAVE_PATH / filename)\n",
    "plt.show()"
   ]
  },
  {
   "cell_type": "markdown",
   "metadata": {},
   "source": [
    "Changing the standard deviation"
   ]
  },
  {
   "cell_type": "code",
   "execution_count": null,
   "metadata": {},
   "outputs": [],
   "source": [
    "# -- Different Std values -- #\n",
    "std_range = np.linspace(0, 100, 11)\n",
    "mAP_values = []\n",
    "for std_value in std_range:\n",
    "    noise = {'drop_probability': 0.0, 'mean': 0.0, 'std': std_value}\n",
    "    noisy_bounding_boxes = apply_noise_to_bounding_boxes(bounding_boxes, noise)\n",
    "    mAP = compute_average_precision(0.5, gt_bounding_boxes, noisy_bounding_boxes)\n",
    "    mAP_values.append(mAP)"
   ]
  },
  {
   "cell_type": "code",
   "execution_count": null,
   "metadata": {},
   "outputs": [],
   "source": [
    "filename = 'map_vs_std.png'\n",
    "\n",
    "# -- Plotting -- #\n",
    "plt.plot(std_range, mAP_values)\n",
    "plt.xticks(std_range)\n",
    "plt.xlabel('std')\n",
    "plt.ylabel('mAP')\n",
    "plt.show()\n",
    "plt.savefig(SAVE_PATH / filename)"
   ]
  },
  {
   "cell_type": "markdown",
   "metadata": {},
   "source": [
    "## Compute mAP for the different detectors"
   ]
  },
  {
   "cell_type": "code",
   "execution_count": null,
   "metadata": {},
   "outputs": [],
   "source": [
    "detectors = ['mask_rcnn', 'ssd512', 'yolo3']\n",
    "for detector in detectors:\n",
    "    det_reader = AnnotationReader(AICITY_DATA_ROOT / f'det/det_{detector}.txt')\n",
    "    predicted_bounding_boxes = reader.get_bounding_boxes(classes=['car'], group_by=None)\n",
    "    mAP = compute_average_precision(0.5, gt_bounding_boxes, predicted_bounding_boxes)\n",
    "    print(f'{detector} mAP: {mAP:.4f}')"
   ]
  },
  {
   "cell_type": "markdown",
   "metadata": {},
   "source": [
    "## Compute mAP for a video sequence"
   ]
  },
  {
   "cell_type": "code",
   "execution_count": null,
   "metadata": {},
   "outputs": [],
   "source": [
    "gt_bounding_boxes = reader.get_bounding_boxes(classes=['car'], group_by='frames')\n",
    "noise = {'drop_probability': 0.05, 'mean': 0.0, 'std': 15}\n",
    "noisy_bounding_boxes = apply_noise_to_bounding_boxes(gt_bounding_boxes, nnoise)"
   ]
  },
  {
   "cell_type": "code",
   "execution_count": null,
   "metadata": {},
   "outputs": [],
   "source": [
    "frames = list(gt_bounding_boxes.keys())\n",
    "total_iou_per_frame = []\n",
    "for frame in frames:\n",
    "    gt_boxes = [bb.bbox for bb in gt_bounding_boxes.get(frame)]\n",
    "    pred_boxes = [bb.bbox for bb in noisy_bounding_boxes.get(frame)]\n",
    "    iou_pre_frame = []\n",
    "    for box1, box2 in zip(gt_boxes, pred_boxes):\n",
    "        iou_per_frame.append(compute_iou(box1, box2))\n",
    "    total_iou_per_frame.append(np.mean(iou_per_frame))"
   ]
  },
  {
   "cell_type": "markdown",
   "metadata": {},
   "source": [
    "Create video from the total iou per frame"
   ]
  },
  {
   "cell_type": "code",
   "execution_count": null,
   "metadata": {},
   "outputs": [],
   "source": [
    "cap = cv2.VideoCapture(VIDEO_PATH)\n",
    "height = int(cap.get(cv2.CAP_PROP_FRAME_HEIGHT))\n",
    "width = int(cap.get(cv2.CAP_PROP_FRAME_WIDTH))\n",
    "\n",
    "fig, ax = plt.subplots(2, 1, figsize=(10, 5))\n",
    "image = ax[0].imshow(np.zeros((height, width)))\n",
    "line, = ax[1].plot(frames, overlaps)\n",
    "artists = [image, line]\n",
    "\n",
    "def update(i):\n",
    "    cap.set(cv2.CAP_PROP_POS_FRAMES, frames[i])\n",
    "    ret, img = cap.read()\n",
    "    for bb in gt_bounding_boxes[frames[i]]:\n",
    "        cv2.rectangle(img, (int(bb.xtl), int(bb.ytl)), (int(bb.xbr), int(bb.ybr)), (0, 255, 0), 4)\n",
    "    for bb in noisy_bounding_boxes[frames[i]]:\n",
    "        cv2.rectangle(img, (int(bb.xtl), int(bb.ytl)), (int(bb.xbr), int(bb.ybr)), (0, 0, 255), 4)\n",
    "    artists[0].set_data(img[:, :, ::-1])\n",
    "    artists[1].set_data(frames[:i + 1], total_iou_per_frame[:i + 1])\n",
    "    return artists\n",
    "\n",
    "ani = animation.FuncAnimation(fig, update, len(frames), interval=2, blit=True)\n",
    "\n",
    "ax[0].set_xticks([])\n",
    "ax[0].set_yticks([])\n",
    "ax[1].set_ylim(0, 1)\n",
    "ax[1].set_xlabel('#frame')\n",
    "ax[1].set_ylabel('mean IoU')\n",
    "fig.suptitle('Video Noisy Annotation')\n",
    "ani.save(SAVE_PATH / 'video_iou.gif', writer='imagemagick')\n",
    "plt.show()"
   ]
  },
  {
   "cell_type": "markdown",
   "metadata": {},
   "source": [
    "## Optical Flow"
   ]
  }
 ],
 "metadata": {
  "kernelspec": {
   "display_name": "Python 3",
   "language": "python",
   "name": "python3"
  },
  "language_info": {
   "codemirror_mode": {
    "name": "ipython",
    "version": 3
   },
   "file_extension": ".py",
   "mimetype": "text/x-python",
   "name": "python",
   "nbconvert_exporter": "python",
   "pygments_lexer": "ipython3",
   "version": "3.7.9"
  }
 },
 "nbformat": 4,
 "nbformat_minor": 4
}
